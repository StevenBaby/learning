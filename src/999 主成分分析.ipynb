{
 "cells": [
  {
   "cell_type": "markdown",
   "metadata": {},
   "source": [
    "# 主成分分析\n",
    "\n",
    "高维情形下出现的数据样本稀疏，距离计算困难，是机器学习算法共同面临的严重障碍。被称为 **维数灾难(Curse of dimensionality)**。\n",
    "\n",
    "缓解维数灾难的一个重要途径是降维(Dimensionality Reduction) ，降维是指通过某种数学变换（映射）方法，将高维空间中的数据映射到低维空间中。\n",
    "\n",
    "主成分分析 (Principal Component Analysis PCA) 是常用的一种降维方法。"
   ]
  },
  {
   "cell_type": "markdown",
   "metadata": {},
   "source": [
    "## References\n",
    "\n",
    "- [1] 周志华. 机器学习[M/OL]. <a href=\"https://book.douban.com/press/2562\">清华大学出版社</a><span class=\"pl\">出版年:</span> 2016-1-1, 2016. https://book.douban.com/subject/26708119/."
   ]
  }
 ],
 "metadata": {
  "language_info": {
   "name": "python"
  }
 },
 "nbformat": 4,
 "nbformat_minor": 2
}
