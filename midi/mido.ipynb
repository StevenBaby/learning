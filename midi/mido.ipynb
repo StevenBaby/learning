{
 "cells": [
  {
   "cell_type": "code",
   "execution_count": 1,
   "metadata": {},
   "outputs": [],
   "source": [
    "%config InlineBackend.figure_formats = ['svg']"
   ]
  },
  {
   "cell_type": "code",
   "execution_count": 2,
   "metadata": {},
   "outputs": [],
   "source": [
    "import mido\n",
    "import time"
   ]
  },
  {
   "cell_type": "code",
   "execution_count": 3,
   "metadata": {},
   "outputs": [
    {
     "data": {
      "text/plain": [
       "Message('note_on', channel=0, note=60, velocity=127, time=0)"
      ]
     },
     "execution_count": 3,
     "metadata": {},
     "output_type": "execute_result"
    }
   ],
   "source": [
    "msg = mido.Message('note_on', note=60, velocity=127)\n",
    "msg"
   ]
  },
  {
   "cell_type": "code",
   "execution_count": 4,
   "metadata": {},
   "outputs": [
    {
     "data": {
      "text/plain": [
       "'note_on'"
      ]
     },
     "execution_count": 4,
     "metadata": {},
     "output_type": "execute_result"
    }
   ],
   "source": [
    "msg.type"
   ]
  },
  {
   "cell_type": "code",
   "execution_count": 5,
   "metadata": {},
   "outputs": [
    {
     "data": {
      "text/plain": [
       "60"
      ]
     },
     "execution_count": 5,
     "metadata": {},
     "output_type": "execute_result"
    }
   ],
   "source": [
    "msg.note"
   ]
  },
  {
   "cell_type": "code",
   "execution_count": 6,
   "metadata": {},
   "outputs": [
    {
     "data": {
      "text/plain": [
       "[144, 60, 127]"
      ]
     },
     "execution_count": 6,
     "metadata": {},
     "output_type": "execute_result"
    }
   ],
   "source": [
    "msg.bytes()"
   ]
  },
  {
   "cell_type": "code",
   "execution_count": 7,
   "metadata": {},
   "outputs": [
    {
     "data": {
      "text/plain": [
       "Message('note_on', channel=2, note=60, velocity=127, time=0)"
      ]
     },
     "execution_count": 7,
     "metadata": {},
     "output_type": "execute_result"
    }
   ],
   "source": [
    "msg.copy(channel=2)"
   ]
  },
  {
   "cell_type": "code",
   "execution_count": 8,
   "metadata": {},
   "outputs": [
    {
     "data": {
      "text/plain": [
       "['Microsoft GS Wavetable Synth 0',\n",
       " 'loopMIDI Port 1 1',\n",
       " 'loopMIDI Port 2 2',\n",
       " 'Keystation 61 MK3 3',\n",
       " 'MIDIOUT2 (Keystation 61 MK3) 4']"
      ]
     },
     "execution_count": 8,
     "metadata": {},
     "output_type": "execute_result"
    }
   ],
   "source": [
    "mido.get_output_names()"
   ]
  },
  {
   "cell_type": "code",
   "execution_count": 9,
   "metadata": {},
   "outputs": [],
   "source": [
    "with mido.open_output(\"loopMIDI Port 2 2\") as port:\n",
    "    # Play A4\n",
    "    on = mido.Message(\"note_on\", note=69, velocity=127)\n",
    "    off = mido.Message(\"note_off\", note=69, velocity=127)\n",
    "    port.send(on)\n",
    "    time.sleep(1)\n",
    "    port.send(off)"
   ]
  },
  {
   "cell_type": "code",
   "execution_count": 10,
   "metadata": {},
   "outputs": [
    {
     "data": {
      "text/plain": [
       "['loopMIDI Port 1 0',\n",
       " 'loopMIDI Port 2 1',\n",
       " 'Keystation 61 MK3 2',\n",
       " 'MIDIIN2 (Keystation 61 MK3) 3']"
      ]
     },
     "execution_count": 10,
     "metadata": {},
     "output_type": "execute_result"
    }
   ],
   "source": [
    "mido.get_input_names()"
   ]
  },
  {
   "cell_type": "code",
   "execution_count": 11,
   "metadata": {},
   "outputs": [
    {
     "name": "stdout",
     "output_type": "stream",
     "text": [
      "note_off channel=0 note=76 velocity=68 time=0 time=0"
     ]
    }
   ],
   "source": [
    "start = time.time()\n",
    "with mido.open_input(\"Keystation 61 MK3 2\") as inport, \\\n",
    "        mido.open_output(\"loopMIDI Port 2 2\") as out:\n",
    "    for msg in inport:\n",
    "        print(f\"\\r{msg}\", end='')\n",
    "        out.send(msg)\n",
    "        if time.time() - start > 10:\n",
    "            break"
   ]
  }
 ],
 "metadata": {
  "kernelspec": {
   "display_name": "test",
   "language": "python",
   "name": "python3"
  },
  "language_info": {
   "codemirror_mode": {
    "name": "ipython",
    "version": 3
   },
   "file_extension": ".py",
   "mimetype": "text/x-python",
   "name": "python",
   "nbconvert_exporter": "python",
   "pygments_lexer": "ipython3",
   "version": "3.7.2"
  },
  "orig_nbformat": 4,
  "vscode": {
   "interpreter": {
    "hash": "f4a7866b55a66abc857b03408de44c5c223dfa656b814ba5aeb66f9babea1100"
   }
  }
 },
 "nbformat": 4,
 "nbformat_minor": 2
}
